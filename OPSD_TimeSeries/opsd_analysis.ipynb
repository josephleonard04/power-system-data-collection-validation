{
 "cells": [
  {
   "cell_type": "markdown",
   "id": "fd75b651-317c-4fd5-9471-0db74c0b4838",
   "metadata": {},
   "source": [
    "### 2. **Open Power System Data – Time Series Package**\n",
    "\n",
    "#### Link: [Dataset DOI](https://doi.org/10.25832/time_series/2020-10-06) | [Documentation (GitHub)](https://github.com/Open-Power-System-Data/datapackage_timeseries)\n",
    "\n",
    "#### Description:  \n",
    "    The Time Series package by Open Power System Data provides real-world, high-resolution datasets for power system modeling. It includes synchronized time series on **load**, **renewable generation**, and **day-ahead market prices** from 32 European countries. The data is sourced from **ENTSO-E Transparency Platform** and is processed using Python/pandas.\n",
    "\n",
    "> **Note**: These time series are based on **real operational measurements**, not synthetic data.  \n",
    "> *“We collect, check, process, document, and provide data that are **publicly available**...”*  \n",
    "> *“The main data sources are the various European Transmission System Operators (TSOs), the ENTSO-E Power Statistics and the ENTSO-E Transparency Platform.”*  \n",
    "> — [OPSD Processing Notebook](https://github.com/Open-Power-System-Data/datapackage_timeseries/blob/2020-10-06/main.ipynb)\n",
    "\n",
    "\n",
    "#### Data Components:\n",
    "- **Time Series Files (CSV)**:\n",
    "  - `time_series_15min_singleindex.csv`  \n",
    "  - `time_series_30min_singleindex.csv`  \n",
    "  - `time_series_60min_singleindex.csv`  \n",
    "\n",
    "#### Data Types & Roles:\n",
    "\n",
    "| Variable                            | Type         | Role             |\n",
    "|-------------------------------------|--------------|------------------|\n",
    "| `load_actual` / `load_forecast`     | Time series  | Consumer Demand  |\n",
    "| `solar_generation`, `wind_*`        | Time series  | Renewable Output |\n",
    "| `*_capacity`, `*_profile`           | Time series  | Installed Assets |\n",
    "| `price_day_ahead`                   | Time series  | Market Price     |\n",
    "\n",
    "#### Profile Volume & Duration:\n",
    "- **Resolution**: 15min, 30min, 60min (depending on file)  \n",
    "- **Period**: 2015 – mid 2020  \n",
    "- **Scope**: 32 countries, multi-zone support (control areas, bidding zones)  \n",
    "- **Columns**: Hundreds (per country and technology type)\n",
    "\n",
    "#### Limitations:\n",
    "- No weather or environmental metadata  \n",
    "\n",
    "#### Related Links:  \n",
    "- [ZIP Download](https://data.open-power-system-data.org/time_series/opsd-time_series-2020-10-06.zip) \n",
    "- [Jupyter Notebook](https://github.com/Open-Power-System-Data/time_series/blob/2020-10-06/main.ipynb)\n"
   ]
  },
  {
   "cell_type": "code",
   "execution_count": null,
   "id": "59633cd2-444a-4341-8aa1-ae1754d06095",
   "metadata": {},
   "outputs": [],
   "source": []
  }
 ],
 "metadata": {
  "kernelspec": {
   "display_name": "Python [conda env:base] *",
   "language": "python",
   "name": "conda-base-py"
  },
  "language_info": {
   "codemirror_mode": {
    "name": "ipython",
    "version": 3
   },
   "file_extension": ".py",
   "mimetype": "text/x-python",
   "name": "python",
   "nbconvert_exporter": "python",
   "pygments_lexer": "ipython3",
   "version": "3.12.7"
  }
 },
 "nbformat": 4,
 "nbformat_minor": 5
}
