{
 "cells": [
  {
   "cell_type": "markdown",
   "id": "ff666069-8a01-4fe9-b2f0-bacc3455600f",
   "metadata": {},
   "source": [
    "### **eCO2mix – France Electricity Generation, Load, and Emissions Data**\n",
    "\n",
    "#### Summary\n",
    "\n",
    "| Number of Profiles | Profile Types                                 | Load Details                        | Renewables               | Environment   | Economy | Voltage Level | Processed | Synthetic | Horizon   | Time Resolution | Geographical | Location | Folder                                           |\n",
    "|--------------------|-----------------------------------------------|--------------------------------------|--------------------------|---------------|---------|---------------|-----------|-----------|------------|-----------------|--------------|----------|--------------------------------------------------|\n",
    "| 40                 | Load, Production, Renewable, Forecast, Environment | Consumption, Active, Aggregated | Solar, Wind, Hydro, Bioenergy | CO₂ Intensity | None    | None          | True      | False     | 2012–2022 | 15 min          | Regional     | France   | [Open Folder](eCO2mix_France_GenerationBySource/) |\n",
    "\n",
    "---\n",
    "\n",
    "#### Data Components:\n",
    "The eCO2mix dataset includes multiple time series profiles, each representing either electricity generation, load consumption, forecast, or CO₂ intensity data in France.  \n",
    "All data is aggregated at the **regional** level and provided in CSV format.\n",
    "> **Note:** These are real-world measurements and forecasts, **not synthetic**.\n",
    "\n",
    "| Profile Type           | Description                                                      | Role     |\n",
    "|------------------------|------------------------------------------------------------------|----------|\n",
    "| `Load` (3 profiles)               | Regional electricity consumption and day-ahead forecast          | Consumer |\n",
    "| `Production` (24 profiles)          | Generation output by source (solar, wind, hydro, bioenergy)     | Producer |\n",
    "| `Renewable` (12 profiles)           | Subset of production profiles for renewable energy sources      | Producer |\n",
    "| `Forecast` (2 profiles)            | Day-ahead forecasted consumption                                | Forecast |\n",
    "| `Environment` (1 profiles)         | CO₂ emissions intensity (grams of CO₂ per kWh)                  | Environment |\n",
    "\n",
    "---\n",
    "\n",
    "#### File Locations:\n",
    "\n",
    "| Profile Type  | Folder Location                            |\n",
    "|---------------|--------------------------------------------|\n",
    "| All Profiles  | [eCO2mix_France_GenerationBySource/](./raw/) |\n",
    "\n",
    "---\n",
    "\n",
    "#### Profile Volume:  \n",
    "- **Time Resolution:** 15 minutes  \n",
    "- **Points per Day:** 96 (15-minute intervals × 24 hours)  \n",
    "- **Total Duration Covered:** 2012 to 2022  \n",
    "- **Number of Profiles:** 40 (total across load, generation, forecast, and environment)  \n",
    "\n",
    "> **Note:** No scenario variants – this is **actual measured and forecast data** from France’s grid.\n",
    "\n",
    "---\n",
    "\n",
    "#### Description:  \n",
    "eCO2mix is a publicly available dataset from RTE (Réseau de Transport d'Électricité) France. It provides detailed historical and real-time grid metrics such as energy consumption, generation by technology, and CO₂ emissions intensity. The data is disaggregated by **region** and **energy source**, making it suitable for both national and regional-level energy studies.\n",
    "\n",
    "> **Units:**  \n",
    "> - **Load and generation:** MW  \n",
    "> - **Emissions intensity:** gCO₂/kWh\n",
    "\n",
    "---\n",
    "\n",
    "#### Related Links:  \n",
    "- [eCO2mix Data Portal (RTE France)](https://www.rte-france.com/eco2mix)\n",
    "- [RTE France Website](https://www.rte-france.com/en)\n"
   ]
  }
 ],
 "metadata": {
  "kernelspec": {
   "display_name": "Python [conda env:base] *",
   "language": "python",
   "name": "conda-base-py"
  },
  "language_info": {
   "codemirror_mode": {
    "name": "ipython",
    "version": 3
   },
   "file_extension": ".py",
   "mimetype": "text/x-python",
   "name": "python",
   "nbconvert_exporter": "python",
   "pygments_lexer": "ipython3",
   "version": "3.12.7"
  }
 },
 "nbformat": 4,
 "nbformat_minor": 5
}
