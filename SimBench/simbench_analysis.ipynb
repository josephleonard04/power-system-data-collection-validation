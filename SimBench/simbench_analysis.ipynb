{
 "cells": [
  {
   "cell_type": "markdown",
   "id": "21135365-23cb-463f-b6b9-2376a7370614",
   "metadata": {},
   "source": [
    "### 1. **SimBench – Standardized Power System Benchmark**\n",
    "\n",
    "#### Summary\n",
    "\n",
    "| Number of Profiles | Profile Types                         | Load Details                                      | Renewables                  | Environment | Economy | Processed | Synthetic | Horizon     | Time Resolution | Geographical   |\n",
    "|-----------|----------------------------------------|--------------------------------------------------|-----------------------------|------|-------|-----------|-----------|-------------|-----------|----------|\n",
    "| 614       | Load, Renewable, Powerplant, Storage         | Active, Reactive, Residential, Industry, Commercial | Solar, Wind, Biomass, Hydro |  None  |  None   | True        | True        | 2016–2017   | 15 min    | Germany  |\n",
    "\n",
    "---\n",
    "\n",
    "#### Data Components:\n",
    "The SimBench dataset includes four main time series profiles, each stored as a CSV file. These represent various actors in the power system and their corresponding roles.\n",
    "> **Note:** There is no missing data.\n",
    "\n",
    "| Profile             | Description                                            | Type         | Role     |\n",
    "|---------------------|--------------------------------------------------------|--------------|----------|\n",
    "| `LoadProfile`       (192 profiles)   | Consumer energy demand (Active, Reactive, Residential, Industry, Commercial)| Time series  | Consumer |\n",
    "| `RESProfile`        (42 profiles)    | Renewable generation (Solar, Wind, Biomass, Hydro)     | Time series  | Producer |\n",
    "| `PowerPlantProfile` (320 profiles)   | Powerplant generator output (e.g., powerplants)        | Time series  | Producer |\n",
    "| `StorageProfile`    (60 profiles)    | Storage system charge/discharge behavior               | Time series  | Storage  |\n",
    "\n",
    "---\n",
    "\n",
    "#### File Locations:\n",
    "\n",
    "| Profile             | Raw Folder Location                                         | Processed Folder Location                                        |\n",
    "|---------------------|-----------------------------------------------------------|--------------------------------------------------------------------|\n",
    "| `LoadProfile`       | [Consumer](./raw/consumer/)                               | [Consumer](./processed/consumer/)                     |\n",
    "| `RESProfile`        | [Producer](./raw/producer/)                               | [Producer](./processed/producer/)                     |\n",
    "| `PowerPlantProfile` | [Producer](./raw/producer/)                               | [Producer](./processed/producer/)                     |\n",
    "| `StorageProfile`    | [Storage](./raw/1-complete_data-mixed-all-2-sw/producer/) |                      |\n",
    "\n",
    "---\n",
    "\n",
    "#### Profile Volume:  \n",
    "- **Time Resolution:** 15 minutes  \n",
    "- **Points per Day:** 96 (15-minute intervals × 24 hours)  \n",
    "- **Total Length:** 35,136  \n",
    "- **Total Duration Covered:** 366 days (1 full leap year)  \n",
    "- **Scenarios:** 3 (same profiles reused in all)\n",
    "> **Note:** All scenarios share the **same** time series profiles for **load and generation**.  \n",
    "> The variation between scenarios lies in the network topology or component configurations, not in the profile data itself.\n",
    " \n",
    "\n",
    "---\n",
    "\n",
    "#### Description:  \n",
    "SimBench is an open dataset of standardized electrical power system benchmark models from low (LV) to extra-high (EHV) voltage grids. It includes synchronized grid topology and full-year time series profiles for consumer demand, renewable and conventional generation, and energy storage systems. Designed for direct compatibility with the `pandapower` Python library.\n",
    "\n",
    "> **Note**: All time series profiles in SimBench are **synthetic**, not based on real-world measurements.  \n",
    "> *“For DERs, synthetic time series are provided in the SimBench dataset.”*  \n",
    "> — [SimBench Paper, MDPI Energies (2020)](https://www.mdpi.com/1996-1073/13/12/3290)\n",
    "\n",
    "> **Units:**  \n",
    "> - **Active power** (load/generation): **MW**  \n",
    "> - **Reactive power**: **MVAr**  \n",
    "> - **Voltage**: **kV**  \n",
    "> - **Storage power capacity**: **MW**  \n",
    "> - **Storage energy capacity**: **MWh**\n",
    "---\n",
    "\n",
    "#### Related Links:  \n",
    "  - [GitHub Repository](https://github.com/e2nIEE/simbench)\n",
    "  - [SimBench Paper (MDPI Energies, 2020)](https://www.mdpi.com/1996-1073/13/12/3290)\n",
    "  - [SimBench Documentation](https://simbench.readthedocs.io/en/stable/)\n"
   ]
  },
  {
   "cell_type": "code",
   "execution_count": null,
   "id": "453f0c0f-1032-4ddd-854a-9677ce2f99b8",
   "metadata": {},
   "outputs": [],
   "source": [
    "import pandas as pd\n",
    "\n",
    "# Load CSVs using updated structure\n",
    "load_profile = pd.read_csv(\"raw/consumer/LoadProfile.csv\", sep=\";\")\n",
    "res_profile = pd.read_csv(\"raw/producer/RESProfile.csv\", sep=\";\")\n",
    "powerplant_profile = pd.read_csv(\"raw/producer/PowerPlantProfile.csv\", sep=\";\")\n"
   ]
  },
  {
   "cell_type": "code",
   "execution_count": null,
   "id": "39f85b77-72e5-406e-a245-ce338a2bfbaa",
   "metadata": {},
   "outputs": [],
   "source": [
    "# Preview of LoadProfile\n",
    "load_profile.head(100)"
   ]
  },
  {
   "cell_type": "code",
   "execution_count": null,
   "id": "7840303d-6774-4e39-876d-73a82ccf39d2",
   "metadata": {},
   "outputs": [],
   "source": [
    "# Preview of RESProfile\n",
    "res_profile.head(100)"
   ]
  },
  {
   "cell_type": "code",
   "execution_count": null,
   "id": "5597354a-c9ca-41ec-a458-b5f777e4d14d",
   "metadata": {},
   "outputs": [],
   "source": [
    "# Preview of PowerPlantProfile\n",
    "powerplant_profile.head(100)"
   ]
  },
  {
   "cell_type": "code",
   "execution_count": null,
   "id": "a33fd0a2-d304-47d6-a1f8-70a154f331ba",
   "metadata": {},
   "outputs": [],
   "source": [
    "# Length of each data profile in a table\n",
    "profiles = {\n",
    "    \"LoadProfile\": load_profile,\n",
    "    \"RESProfile\": res_profile,\n",
    "    \"PowerPlantProfile\": powerplant_profile\n",
    "}\n",
    "\n",
    "lengths = {name: len(df) for name, df in profiles.items()}\n",
    "length_df = pd.DataFrame.from_dict(lengths, orient='index', columns=['Length'])\n",
    "print(length_df)"
   ]
  },
  {
   "cell_type": "code",
   "execution_count": null,
   "id": "0412454f-b567-4682-a3b7-c9c5dd5503ff",
   "metadata": {},
   "outputs": [],
   "source": [
    "# Check if there is any missing data\n",
    "for name, df in profiles.items():\n",
    "    print(f\"\\nMissing values in {name}:\")\n",
    "    print(df.isna().sum())"
   ]
  },
  {
   "cell_type": "code",
   "execution_count": null,
   "id": "7df3035f-8db6-431e-898d-fd307bed84c0",
   "metadata": {},
   "outputs": [],
   "source": [
    "# Convert time column to datetime for all profiles\n",
    "for df in [load_profile, res_profile, powerplant_profile]:\n",
    "    df['time'] = pd.to_datetime(df['time'], dayfirst=True)"
   ]
  },
  {
   "cell_type": "code",
   "execution_count": null,
   "id": "52a68409-d566-4abf-bcea-b008286c3ce5",
   "metadata": {},
   "outputs": [],
   "source": [
    "# Check if there are any missing time stamps\n",
    "for name, df in profiles.items():\n",
    "    expected_times = pd.date_range(start=df['time'].min(), end=df['time'].max(), freq='15min')\n",
    "    actual_times = df['time']\n",
    "    missing_times = expected_times.difference(actual_times)\n",
    "\n",
    "    print(f\"\\n{name} missing timestamps: {len(missing_times)}\")\n",
    "    if not missing_times.empty:\n",
    "        print(missing_times)\n",
    "\n",
    "# 1 Missing time stamp from daylight saving time\n"
   ]
  },
  {
   "cell_type": "code",
   "execution_count": null,
   "id": "feb523ae-699d-44d3-9802-124802072a9b",
   "metadata": {},
   "outputs": [],
   "source": [
    "import sys\n",
    "sys.path.append(\"..\")\n",
    "\n",
    "from utils.simbench_plotter import (\n",
    "    plot_simbench_total_load_over_time,\n",
    "    plot_simbench_max_energy_by_category,\n",
    ")\n",
    "\n",
    "fp_load = \"raw/consumer/LoadProfile.csv\"\n",
    "fp_res  = \"raw/producer/RESProfile.csv\"\n",
    "\n",
    "# Active/Reactive load over time period, downsampled to 300 points\n",
    "plot_simbench_total_load_over_time(\n",
    "    fp=fp_load,\n",
    "    kind=\"pload\",  # or \"qload\" for reactive\n",
    "    start_time=\"2016-01-01 00:00:00\",\n",
    "    end_time=\"2016-01-02 00:00:00\",\n",
    "    max_points=300\n",
    ")\n",
    "\n",
    "# Max energy for each renewable profile within the time period, downsampled to 300 points (i.e. the result could vary slightly)\n",
    "plot_simbench_max_energy_by_category(\n",
    "    fp_res,\n",
    "    start_time=\"2016-01-01 00:00:00\",\n",
    "    end_time=\"2016-01-02 00:00:00\",\n",
    "    max_points=300\n",
    ")\n"
   ]
  },
  {
   "cell_type": "code",
   "execution_count": null,
   "id": "6f6b4d90-3d95-4cba-8a35-dec3ed4c76f8",
   "metadata": {},
   "outputs": [],
   "source": [
    "# Calculate the number of profiles in each profile category\n",
    "load_profiles = pd.read_csv(\"raw/consumer/LoadProfile.csv\", sep=\";\")\n",
    "\n",
    "# Total number of unique profile columns (excluding time columns)\n",
    "num_profiles = (\n",
    "    len(load_profiles.columns) - 1\n",
    ")\n",
    "\n",
    "print(f\"Load profile contains {num_profiles} profiles\")\n"
   ]
  },
  {
   "cell_type": "code",
   "execution_count": null,
   "id": "60f92940-0612-4c44-8e36-b02ca0d1cdb8",
   "metadata": {},
   "outputs": [],
   "source": [
    "res_profiles = pd.read_csv(\"raw/producer/RESProfile.csv\", sep=\";\")\n",
    "\n",
    "# Total number of unique profile columns (excluding time columns)\n",
    "num_profiles = (\n",
    "    len(res_profiles.columns) - 1 \n",
    ")\n",
    "\n",
    "print(f\"Renewable profile contains {num_profiles} profiles\")\n"
   ]
  },
  {
   "cell_type": "code",
   "execution_count": null,
   "id": "79453259-3e17-4bfb-8daa-e6f4b85c0630",
   "metadata": {},
   "outputs": [],
   "source": [
    "pp_profiles = pd.read_csv(\"raw/producer/PowerPlantProfile.csv\", sep=\";\")\n",
    "\n",
    "# Total number of unique profile columns (excluding time columns)\n",
    "num_profiles = (\n",
    "    len(pp_profiles.columns) - 1 \n",
    ")\n",
    "\n",
    "print(f\"Power plant profile contains {num_profiles} profiles\")\n"
   ]
  },
  {
   "cell_type": "code",
   "execution_count": null,
   "id": "c04d0076-3519-46b9-a20e-cb528fecec81",
   "metadata": {},
   "outputs": [],
   "source": [
    "st_profiles = pd.read_csv(\"raw/1-complete_data-mixed-all-2-sw/StorageProfile.csv\", sep=\";\")\n",
    "\n",
    "# Total number of unique profile columns (excluding time columns)\n",
    "num_profiles = (\n",
    "    len(st_profiles.columns) - 1 \n",
    ")\n",
    "\n",
    "print(f\"Storage profile contains {num_profiles} profiles\")\n"
   ]
  }
 ],
 "metadata": {
  "kernelspec": {
   "display_name": "Python [conda env:base] *",
   "language": "python",
   "name": "conda-base-py"
  },
  "language_info": {
   "codemirror_mode": {
    "name": "ipython",
    "version": 3
   },
   "file_extension": ".py",
   "mimetype": "text/x-python",
   "name": "python",
   "nbconvert_exporter": "python",
   "pygments_lexer": "ipython3",
   "version": "3.12.7"
  }
 },
 "nbformat": 4,
 "nbformat_minor": 5
}
