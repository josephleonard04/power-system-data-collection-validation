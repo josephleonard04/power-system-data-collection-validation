{
 "cells": [
  {
   "cell_type": "markdown",
   "id": "2da96d31-45fb-4b68-8d84-1c1241358464",
   "metadata": {},
   "source": [
    "# Raw Folder Summary\n",
    "This page explains the structure and contents of the `raw/` folder for users who want to understand the available data before diving into processing or modeling.\n",
    "\n",
    "---\n",
    "\n",
    "### Load Types\n",
    "\n",
    "There are two types of power data throughout the dataset:\n",
    "\n",
    "- **Active Power (P)** — measured in **MW**  \n",
    "\n",
    "- **Reactive Power (Q)** — measured in **MVAr**  \n",
    "\n",
    "These are typically found in columns ending in:\n",
    "- `_pload` → active power load (P)\n",
    "- `_qload` → reactive power load (Q)\n",
    "\n",
    "---\n",
    "\n",
    "### Consumer Data \n",
    "\n",
    "#### `LoadProfile.csv`\n",
    "\n",
    "- **File location:** `raw/consumer/LoadProfile.csv`\n",
    "- **Description:** Contains time series load data.\n",
    "- **Columns:**\n",
    "  - `time` — timestamp (e.g., `01.01.2016 00:00`)\n",
    "  - `<NodeName>_pload` — active power load in **MW**\n",
    "  - `<NodeName>_qload` — reactive power load in **MVAr**\n",
    "- **Sampling rate:** 15-minute intervals\n",
    "\n",
    "---\n",
    "\n",
    "### Producer Data\n",
    "\n",
    "#### `RESProfile.csv` (Renewable Energy Sources)\n",
    "\n",
    "- **File location:** `raw/producer/RESProfile.csv`\n",
    "- **Description:** Time series of renewable generation (solar, wind, etc.).\n",
    "- **Columns:**\n",
    "  - `time` — timestamp\n",
    "  - `<RES unit>` — active power generation in **MW**\n",
    "- **Sampling rate:** 15-minute intervals\n",
    "\n",
    "#### `PowerPlantProfile.csv`\n",
    "\n",
    "- **File location:** `raw/producer/PowerPlantProfile.csv`\n",
    "- **Description:** Conventional (dispatchable) power plant generation data.\n",
    "- **Columns:**\n",
    "  - `time` — timestamp\n",
    "  - `pp_<name>` — active power generation in **MW**\n",
    "- **Sampling rate:** 15-minute intervals"
   ]
  }
 ],
 "metadata": {
  "kernelspec": {
   "display_name": "Python [conda env:base] *",
   "language": "python",
   "name": "conda-base-py"
  },
  "language_info": {
   "codemirror_mode": {
    "name": "ipython",
    "version": 3
   },
   "file_extension": ".py",
   "mimetype": "text/x-python",
   "name": "python",
   "nbconvert_exporter": "python",
   "pygments_lexer": "ipython3",
   "version": "3.12.7"
  }
 },
 "nbformat": 4,
 "nbformat_minor": 5
}
