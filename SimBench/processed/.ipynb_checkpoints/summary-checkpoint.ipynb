{
 "cells": [
  {
   "cell_type": "markdown",
   "id": "c28bc36b-982e-47ca-af29-05d14932e153",
   "metadata": {},
   "source": [
    "# Processed Folder Summary\n",
    "This page explains the structure and contents of the `processed/` folder, which contains cleaned and ready-to-use versions of the raw data for analysis, modeling, or simulation.\n",
    "\n",
    "---\n",
    "\n",
    "### Load Types\n",
    "\n",
    "The processed datasets retain the same two types of power data:\n",
    "\n",
    "- **Active Power (P)** — measured in **MW**  \n",
    "\n",
    "- **Reactive Power (Q)** — measured in **MVAr**\n",
    "\n",
    "Column naming remains consistent:\n",
    "- `_pload` → active power load (P)\n",
    "- `_qload` → reactive power load (Q)\n",
    "\n",
    "---\n",
    "\n",
    "### Consumer Data \n",
    "\n",
    "#### `LoadProfile_processed.csv`\n",
    "\n",
    "- **File location:** `processed/consumer/LoadProfile_processed.csv`\n",
    "- **Description:** Cleaned time series load data with consistent time formatting and optional resampling.\n",
    "- **Columns:**\n",
    "  - `time` — standardized timestamp format (e.g., ISO 8601)\n",
    "  - `<NodeName>_pload` — active power load in **MW**\n",
    "  - `<NodeName>_qload` — reactive power load in **MVAr**\n",
    "- **Sampling rate:** 15-minute intervals\n",
    "- **Modifications:** Converted the original single-column format into properly separated multiple columns.\n",
    "\n",
    "---\n",
    "\n",
    "### Producer Data\n",
    "\n",
    "#### `RESProfile_processed.csv` (Renewable Energy Sources)\n",
    "\n",
    "- **File location:** `processed/producer/RESProfile_processed.csv`\n",
    "- **Description:** Cleaned and aligned time series of renewable generation data (solar, wind, biomass, hydro).\n",
    "- **Columns:**\n",
    "  - `time` — timestamp\n",
    "  - `<Generator ID>` — active power output in **MW**\n",
    "- **Sampling rate:** 15-minute intervals\n",
    "- **Modifications:** Converted the original single-column format into properly separated multiple columns.\n",
    "\n",
    "#### `PowerPlantProfile_processed.csv`\n",
    "\n",
    "- **File location:** `processed/producer/PowerPlantProfile_processed.csv`\n",
    "- **Description:** Cleaned time series of conventional power plant generation.\n",
    "- **Columns:**\n",
    "  - `time` — timestamp\n",
    "  - `pp_<ID>` — active power output in **MW**\n",
    "- **Sampling rate:** 15-minute intervals\n",
    "- **Modifications:** Converted the original single-column format into properly separated multiple columns.\n"
   ]
  }
 ],
 "metadata": {
  "kernelspec": {
   "display_name": "Python [conda env:base] *",
   "language": "python",
   "name": "conda-base-py"
  },
  "language_info": {
   "codemirror_mode": {
    "name": "ipython",
    "version": 3
   },
   "file_extension": ".py",
   "mimetype": "text/x-python",
   "name": "python",
   "nbconvert_exporter": "python",
   "pygments_lexer": "ipython3",
   "version": "3.12.7"
  }
 },
 "nbformat": 4,
 "nbformat_minor": 5
}
