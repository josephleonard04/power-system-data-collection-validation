{
 "cells": [
  {
   "cell_type": "markdown",
   "id": "9d337c3a-c4d5-4575-b760-3f9602e0e656",
   "metadata": {},
   "source": [
    "### **AgenceORE - Open Data**\n",
    "\n",
    "#### Summary\n",
    "\n",
    "| Number of Profiles | Profile Types                     | Load Details                             | Renewables     | Environment | Economy | Processed | Synthetic | Horizon     | Time Resolution           | Geographical                                |\n",
    "|--------------------|-----------------------------------|-------------------------------------------|----------------|-------------|---------|-----------|-----------|--------------|----------------------------|---------------------------------------------|\n",
    "| 130                | Load, Consumption Points, Energy Consumption  | Active, Aggregated, Residential  |  None   |    None    |  None   | True      | False     | 2020–2024     | 30 min     | France |\n",
    "\n",
    "---\n",
    "\n",
    "#### Data Components:\n",
    "The Agence ORE dataset provides aggregated half-hourly electricity consumption data for delivery points with contracted power below 36 kVA, across various regions in France. All data is delivered in CSV format.\n",
    "\n",
    "\n",
    "| Profile Type           | Description                                                                         | Role     |\n",
    "|------------------------|-------------------------------------------------------------------------------------|----------|\n",
    "| `Consumption Points`   | \tNumber of active delivery points (<36 kVA) per region and per interval             | Consumer |\n",
    "| `Energy Consumption`   | Half-hourly electricity consumption (in Wh) aggregated by region and time (load)    | Consumer |\n",
    "\n",
    "\n",
    "---\n",
    "\n",
    "#### File Locations:\n",
    "\n",
    "| Profile Type                          | Raw Source Location      | Processed Folder Location               |\n",
    "|---------------------------------------|--------------------------|-----------------------------------------|\n",
    "| `active_energy`, `consumption_points` | [Raw](./raw/)            | [Consumer](./processed/consumer/)       |\n",
    "\n",
    "---\n",
    "\n",
    "#### Profile Volume:\n",
    "  - **Time Resolution**: 30 min\n",
    "  - **Length**:\n",
    "    - `consumption_30min_2020.csv`:         263520 rows\n",
    "    - `consumption_30min_2021.csv`:         262800 rows\n",
    "    - `consumption_30min_2022.csv`:         262800 rows\n",
    "    - `consumption_30min_2023.csv`:         262800 rows\n",
    "    - `consumption_30min_2024.csv`:         263520 rows\n",
    "  - **Horizon**: 2020–2024\n",
    "\n",
    "> **Note:** AgenceORE time series are based on **real measurements** reported by distribution system operators and grid managers.\n",
    "\n",
    "---\n",
    "\n",
    "#### Description:  \n",
    "This dataset contains aggregated electricity consumption data at a 30-minute resolution for delivery points with contracted power below 36 kVA, across French administrative regions. Each record includes the timestamp (HORODATE), the number of active delivery points (NB_POINTS_SOUTIRAGE), and the total active energy consumed (ENERGIE_SOUTIREE) in watt-hours. The data is provided by various distribution system operators (GRD), such as Enedis and local grid managers.\n",
    "\n",
    "> **Units:**  \n",
    "> - **Active energy consumed**: **watt-hours (Wh)**  \n",
    "> - **Number of delivery points**: **unitless count**  \n",
    "---\n",
    "\n",
    "#### Related Links:  \n",
    "  - [Documentation](https://www.agenceore.fr/opendata/consommation-agregee-demi-horaire-des-points-de-soutirage-inferieurs-36kva-par-region)\n"
   ]
  },
  {
   "cell_type": "markdown",
   "id": "673017bc-f911-4044-bf6b-ffb117145fee",
   "metadata": {},
   "source": [
    "#### Length of each dataset"
   ]
  },
  {
   "cell_type": "code",
   "execution_count": 1,
   "id": "dc1c580c-0458-4f41-bf49-7951b1816286",
   "metadata": {},
   "outputs": [
    {
     "name": "stdout",
     "output_type": "stream",
     "text": [
      "                      File  Number of Rows\n",
      "consumption_30min_2020.csv          263520\n",
      "consumption_30min_2021.csv          262800\n",
      "consumption_30min_2022.csv          262800\n",
      "consumption_30min_2023.csv          262800\n",
      "consumption_30min_2024.csv          263520\n"
     ]
    }
   ],
   "source": [
    "import os\n",
    "import pandas as pd\n",
    "\n",
    "# Set your data directory\n",
    "data_dir = \"raw/\"\n",
    "\n",
    "# Store results\n",
    "lengths = []\n",
    "\n",
    "# Go through each CSV file in the directory\n",
    "for filename in os.listdir(data_dir):\n",
    "    if filename.endswith(\".csv\"):\n",
    "        file_path = os.path.join(data_dir, filename)\n",
    "        try:\n",
    "            df = pd.read_csv(file_path, sep=\";\", encoding=\"utf-8\")\n",
    "            lengths.append({\"File\": filename, \"Number of Rows\": len(df)})\n",
    "        except Exception as e:\n",
    "            lengths.append({\"File\": filename, \"Number of Rows\": f\"Error: {e}\"})\n",
    "\n",
    "# Convert to DataFrame and display\n",
    "lengths_df = pd.DataFrame(lengths)\n",
    "print(lengths_df.to_string(index=False))"
   ]
  },
  {
   "cell_type": "markdown",
   "id": "a27d0770-c020-421a-a8e2-8209df834e95",
   "metadata": {},
   "source": [
    "#### Check for missing values"
   ]
  },
  {
   "cell_type": "code",
   "execution_count": 2,
   "id": "a0425a45-6260-4722-876c-3dab3747fd11",
   "metadata": {},
   "outputs": [
    {
     "name": "stdout",
     "output_type": "stream",
     "text": [
      "                      File  Missing Values\n",
      "consumption_30min_2020.csv               0\n",
      "consumption_30min_2021.csv               0\n",
      "consumption_30min_2022.csv               0\n",
      "consumption_30min_2023.csv               0\n",
      "consumption_30min_2024.csv               0\n"
     ]
    }
   ],
   "source": [
    "# Store results\n",
    "missing_summary = []\n",
    "\n",
    "# Go through each CSV file\n",
    "for filename in os.listdir(data_dir):\n",
    "    if filename.endswith(\".csv\"):\n",
    "        file_path = os.path.join(data_dir, filename)\n",
    "        try:\n",
    "            df = pd.read_csv(file_path, sep=\";\", encoding=\"utf-8\")\n",
    "            total_missing = df.isnull().sum().sum()  # total missing values\n",
    "            missing_summary.append({\n",
    "                \"File\": filename,\n",
    "                \"Missing Values\": total_missing\n",
    "            })\n",
    "        except Exception as e:\n",
    "            missing_summary.append({\n",
    "                \"File\": filename,\n",
    "                \"Missing Values\": f\"Error: {e}\"\n",
    "            })\n",
    "\n",
    "# Display result as table\n",
    "missing_df = pd.DataFrame(missing_summary)\n",
    "print(missing_df.to_string(index=False))\n"
   ]
  },
  {
   "cell_type": "markdown",
   "id": "3e208b14-6eaa-461b-aae9-2e6657aa0b2f",
   "metadata": {},
   "source": [
    "#### Data cleaning process"
   ]
  },
  {
   "cell_type": "code",
   "execution_count": null,
   "id": "7c7a1bd8-e184-4683-9274-4da2aee0ef35",
   "metadata": {},
   "outputs": [],
   "source": [
    "import pandas as pd\n",
    "\n",
    "# Load raw CSV (handles accents, datetime parsing)\n",
    "# Replace # with the actual number\n",
    "df = pd.read_csv(\"raw/consumption_30min_202#.csv\", sep=\";\", encoding=\"utf-8\", parse_dates=[\"HORODATE\"])\n",
    "\n",
    "# Rename to clean English headers\n",
    "df = df.rename(columns={\n",
    "    \"HORODATE\": \"TIME\",\n",
    "    \"REGION\": \"REGION\",\n",
    "    \"NB_POINTS_SOUTIRAGE\": \"NUMBER_OF_CONSUMPTION_POINTS\",\n",
    "    \"ENERGIE_SOUTIREE\": \"ACTIVE_ENERGY_CONSUMED\"\n",
    "})\n",
    "\n",
    "# Group by TIME and REGION\n",
    "df_grouped = df.groupby([\"TIME\", \"REGION\"], as_index=False).agg({\n",
    "    \"NUMBER_OF_CONSUMPTION_POINTS\": \"sum\",\n",
    "    \"ACTIVE_ENERGY_CONSUMED\": \"sum\"\n",
    "})\n",
    "\n",
    "# Rename to final output column names\n",
    "df_grouped.columns = [\n",
    "    \"TIME\", \n",
    "    \"REGION\", \n",
    "    \"TOTAL_CONSUMPTION_POINTS\", \n",
    "    \"TOTAL_ACTIVE_ENERGY\"\n",
    "]\n",
    "\n",
    "# Sort by time\n",
    "df_grouped = df_grouped.sort_values(by=\"TIME\")\n",
    "\n",
    "# Pivot to wide-format: one row per TIME, each region has 2 columns\n",
    "pivot_cons = df_grouped.pivot(index=\"TIME\", columns=\"REGION\", values=\"TOTAL_CONSUMPTION_POINTS\")\n",
    "pivot_energy = df_grouped.pivot(index=\"TIME\", columns=\"REGION\", values=\"TOTAL_ACTIVE_ENERGY\")\n",
    "\n",
    "# Rename columns to clarify meaning\n",
    "pivot_cons.columns = [f\"{region}_CONS_PTS\" for region in pivot_cons.columns]\n",
    "pivot_energy.columns = [f\"{region}_ACTIVE_ENERGY\" for region in pivot_energy.columns]\n",
    "\n",
    "# Combine both pivoted tables\n",
    "df_pivoted = pd.concat([pivot_cons, pivot_energy], axis=1).reset_index()\n",
    "\n",
    "# Sort columns alphabetically (after TIME)\n",
    "cols_sorted = [\"TIME\"] + sorted([col for col in df_pivoted.columns if col != \"TIME\"])\n",
    "df_pivoted = df_pivoted[cols_sorted]\n",
    "\n",
    "# Split into two separate DataFrames\n",
    "\n",
    "# Consumption points file\n",
    "# Replace # with the actual number\n",
    "df_cons_only = df_pivoted[[\"TIME\"] + [col for col in df_pivoted.columns if col.endswith(\"_CONS_PTS\")]]\n",
    "df_cons_only.to_csv(\"consumption_points_30min_202#.csv\", sep=\";\", index=False, encoding=\"utf-8-sig\")\n",
    "\n",
    "# Active energy file\n",
    "# Replace # with the actual number\n",
    "df_energy_only = df_pivoted[[\"TIME\"] + [col for col in df_pivoted.columns if col.endswith(\"_ACTIVE_ENERGY\")]]\n",
    "df_energy_only.to_csv(\"active_energy_30min_202#.csv\", sep=\";\", index=False, encoding=\"utf-8-sig\")\n",
    "\n"
   ]
  }
 ],
 "metadata": {
  "kernelspec": {
   "display_name": "Python [conda env:base] *",
   "language": "python",
   "name": "conda-base-py"
  },
  "language_info": {
   "codemirror_mode": {
    "name": "ipython",
    "version": 3
   },
   "file_extension": ".py",
   "mimetype": "text/x-python",
   "name": "python",
   "nbconvert_exporter": "python",
   "pygments_lexer": "ipython3",
   "version": "3.12.7"
  }
 },
 "nbformat": 4,
 "nbformat_minor": 5
}
